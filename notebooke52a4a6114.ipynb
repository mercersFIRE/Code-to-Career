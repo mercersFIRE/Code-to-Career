{
 "cells": [
  {
   "cell_type": "code",
   "execution_count": 1,
   "id": "39e6e951",
   "metadata": {
    "execution": {
     "iopub.execute_input": "2025-02-13T08:59:43.402917Z",
     "iopub.status.busy": "2025-02-13T08:59:43.402398Z",
     "iopub.status.idle": "2025-02-13T08:59:44.387393Z",
     "shell.execute_reply": "2025-02-13T08:59:44.386406Z"
    },
    "papermill": {
     "duration": 0.990722,
     "end_time": "2025-02-13T08:59:44.389341",
     "exception": false,
     "start_time": "2025-02-13T08:59:43.398619",
     "status": "completed"
    },
    "tags": []
   },
   "outputs": [],
   "source": [
    "import pandas as pd\n",
    "\n",
    "data_path=\"/kaggle/input/cf-data/codeforces_user_data_with_category_counts.csv\"\n",
    "data = pd.read_csv(data_path)\n",
    "\n",
    "#print(data)\n",
    "#print(data.info())\n"
   ]
  },
  {
   "cell_type": "code",
   "execution_count": 2,
   "id": "fcdb35fa",
   "metadata": {
    "execution": {
     "iopub.execute_input": "2025-02-13T08:59:44.395161Z",
     "iopub.status.busy": "2025-02-13T08:59:44.394849Z",
     "iopub.status.idle": "2025-02-13T08:59:46.293002Z",
     "shell.execute_reply": "2025-02-13T08:59:46.291906Z"
    },
    "papermill": {
     "duration": 1.903045,
     "end_time": "2025-02-13T08:59:46.295027",
     "exception": false,
     "start_time": "2025-02-13T08:59:44.391982",
     "status": "completed"
    },
    "tags": []
   },
   "outputs": [],
   "source": [
    "# Check for missing values\n",
    "#print(data.isnull().sum())\n",
    "\n",
    "# Summary statistics\n",
    "#print(data.describe())\n",
    "\n",
    "# Visualize distributions\n",
    "import seaborn as sns\n",
    "import matplotlib.pyplot as plt\n",
    "\n",
    "#sns.pairplot(data)\n",
    "#plt.show()\n"
   ]
  },
  {
   "cell_type": "code",
   "execution_count": 3,
   "id": "fa03e52c",
   "metadata": {
    "execution": {
     "iopub.execute_input": "2025-02-13T08:59:46.300765Z",
     "iopub.status.busy": "2025-02-13T08:59:46.300249Z",
     "iopub.status.idle": "2025-02-13T08:59:46.336872Z",
     "shell.execute_reply": "2025-02-13T08:59:46.335857Z"
    },
    "papermill": {
     "duration": 0.041439,
     "end_time": "2025-02-13T08:59:46.338761",
     "exception": false,
     "start_time": "2025-02-13T08:59:46.297322",
     "status": "completed"
    },
    "tags": []
   },
   "outputs": [],
   "source": [
    "# Fill missing values for numeric columns with their mean\n",
    "numeric_columns = data.select_dtypes(include=['number']).columns\n",
    "data[numeric_columns] = data[numeric_columns].fillna(data[numeric_columns].mean())\n",
    "\n",
    "# Fill missing values for non-numeric columns with a placeholder (e.g., 'Unknown')\n",
    "non_numeric_columns = data.select_dtypes(exclude=['number']).columns\n",
    "data[non_numeric_columns] = data[non_numeric_columns].fillna(\"Unknown\")\n"
   ]
  },
  {
   "cell_type": "code",
   "execution_count": 4,
   "id": "d43447e0",
   "metadata": {
    "execution": {
     "iopub.execute_input": "2025-02-13T08:59:46.344431Z",
     "iopub.status.busy": "2025-02-13T08:59:46.343983Z",
     "iopub.status.idle": "2025-02-13T08:59:46.642793Z",
     "shell.execute_reply": "2025-02-13T08:59:46.641691Z"
    },
    "papermill": {
     "duration": 0.304115,
     "end_time": "2025-02-13T08:59:46.645146",
     "exception": false,
     "start_time": "2025-02-13T08:59:46.341031",
     "status": "completed"
    },
    "tags": []
   },
   "outputs": [],
   "source": [
    "from sklearn.model_selection import train_test_split\n",
    "\n",
    "# Drop both 'User ID' and 'Current Job Status' from X\n",
    "X = data.drop(['User ID', 'Current Job Status'], axis=1)\n",
    "y = data['Current Job Status']\n",
    "\n",
    "# Split the data\n",
    "X_train, X_test, y_train, y_test = train_test_split(X, y, test_size=0.2,random_state=5)\n",
    "\n",
    "\n",
    "#print(\"hola\")"
   ]
  },
  {
   "cell_type": "code",
   "execution_count": 5,
   "id": "91a311a0",
   "metadata": {
    "execution": {
     "iopub.execute_input": "2025-02-13T08:59:46.653142Z",
     "iopub.status.busy": "2025-02-13T08:59:46.652769Z",
     "iopub.status.idle": "2025-02-13T08:59:47.313226Z",
     "shell.execute_reply": "2025-02-13T08:59:47.311952Z"
    },
    "papermill": {
     "duration": 0.666401,
     "end_time": "2025-02-13T08:59:47.315100",
     "exception": false,
     "start_time": "2025-02-13T08:59:46.648699",
     "status": "completed"
    },
    "tags": []
   },
   "outputs": [
    {
     "name": "stdout",
     "output_type": "stream",
     "text": [
      "Accuracy: 0.872\n"
     ]
    }
   ],
   "source": [
    "from sklearn.ensemble import RandomForestClassifier\n",
    "from sklearn.metrics import accuracy_score\n",
    "\n",
    "# Train the model\n",
    "model = RandomForestClassifier()\n",
    "model.fit(X_train, y_train)\n",
    "\n",
    "# Predict and evaluate\n",
    "y_pred = model.predict(X_test)\n",
    "print(\"Accuracy:\", accuracy_score(y_test, y_pred))\n"
   ]
  }
 ],
 "metadata": {
  "kaggle": {
   "accelerator": "none",
   "dataSources": [
    {
     "datasetId": 6533924,
     "sourceId": 10637219,
     "sourceType": "datasetVersion"
    }
   ],
   "dockerImageVersionId": 30839,
   "isGpuEnabled": false,
   "isInternetEnabled": false,
   "language": "python",
   "sourceType": "notebook"
  },
  "kernelspec": {
   "display_name": "Python 3",
   "language": "python",
   "name": "python3"
  },
  "language_info": {
   "codemirror_mode": {
    "name": "ipython",
    "version": 3
   },
   "file_extension": ".py",
   "mimetype": "text/x-python",
   "name": "python",
   "nbconvert_exporter": "python",
   "pygments_lexer": "ipython3",
   "version": "3.10.12"
  },
  "papermill": {
   "default_parameters": {},
   "duration": 7.51379,
   "end_time": "2025-02-13T08:59:48.037406",
   "environment_variables": {},
   "exception": null,
   "input_path": "__notebook__.ipynb",
   "output_path": "__notebook__.ipynb",
   "parameters": {},
   "start_time": "2025-02-13T08:59:40.523616",
   "version": "2.6.0"
  }
 },
 "nbformat": 4,
 "nbformat_minor": 5
}
